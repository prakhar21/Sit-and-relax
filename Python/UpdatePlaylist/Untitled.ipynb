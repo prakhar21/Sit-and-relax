{
 "cells": [
  {
   "cell_type": "code",
   "execution_count": 1,
   "metadata": {
    "collapsed": true
   },
   "outputs": [],
   "source": [
    "import dropbox"
   ]
  },
  {
   "cell_type": "code",
   "execution_count": 14,
   "metadata": {
    "collapsed": false
   },
   "outputs": [
    {
     "data": {
      "text/plain": [
       "FileMetadata(name=u'pic2.png', id=u'id:ct8LZIltLYAAAAAAAAAACQ', client_modified=datetime.datetime(2016, 9, 11, 16, 25, 36), server_modified=datetime.datetime(2016, 9, 11, 16, 25, 36), rev=u'94de1412f', size=30, path_lower=u'/test/pic2.png', path_display=u'/test/pic2.png', parent_shared_folder_id=None, media_info=None, sharing_info=None, property_groups=None, has_explicit_shared_members=None)"
      ]
     },
     "execution_count": 14,
     "metadata": {},
     "output_type": "execute_result"
    }
   ],
   "source": [
    "token = \"rhoO8RG2epAAAAAAAAAADtYeAvHcuY5XHYK67WGT9qgh2XO6ohaUNUCjGhRzbxmR\"\n",
    "\n",
    "dbx = dropbox.Dropbox(token)\n",
    "\n",
    "dbx.files_upload(\"/home/prakhar/Pictures/bad.png\", '/test/pic2.png')"
   ]
  },
  {
   "cell_type": "code",
   "execution_count": 22,
   "metadata": {
    "collapsed": false
   },
   "outputs": [
    {
     "data": {
      "text/plain": [
       "FileMetadata(name=u'uber.pdf', id=u'id:ct8LZIltLYAAAAAAAAAADA', client_modified=datetime.datetime(2016, 9, 11, 16, 30, 30), server_modified=datetime.datetime(2016, 9, 11, 16, 30, 30), rev=u'e4de1412f', size=25, path_lower=u'/test/uber.pdf', path_display=u'/test/uber.pdf', parent_shared_folder_id=None, media_info=None, sharing_info=None, property_groups=None, has_explicit_shared_members=None)"
      ]
     },
     "execution_count": 22,
     "metadata": {},
     "output_type": "execute_result"
    }
   ],
   "source": [
    "dbx.files_upload(\"/home/prakhar/mozilla.pdf\", '/test/uber.pdf')"
   ]
  },
  {
   "cell_type": "code",
   "execution_count": 18,
   "metadata": {
    "collapsed": false
   },
   "outputs": [
    {
     "ename": "AttributeError",
     "evalue": "'Dropbox' object has no attribute 'share'",
     "output_type": "error",
     "traceback": [
      "\u001b[0;31m---------------------------------------------------------------------------\u001b[0m",
      "\u001b[0;31mAttributeError\u001b[0m                            Traceback (most recent call last)",
      "\u001b[0;32m<ipython-input-18-b73b9bccc1ed>\u001b[0m in \u001b[0;36m<module>\u001b[0;34m()\u001b[0m\n\u001b[0;32m----> 1\u001b[0;31m \u001b[0mdbx\u001b[0m\u001b[0;34m.\u001b[0m\u001b[0mshare\u001b[0m\u001b[0;34m(\u001b[0m\u001b[0;34m'/test/pic1.png'\u001b[0m\u001b[0;34m,\u001b[0m \u001b[0mshort_url\u001b[0m\u001b[0;34m=\u001b[0m\u001b[0mTrue\u001b[0m\u001b[0;34m)\u001b[0m\u001b[0;34m\u001b[0m\u001b[0m\n\u001b[0m",
      "\u001b[0;31mAttributeError\u001b[0m: 'Dropbox' object has no attribute 'share'"
     ]
    }
   ],
   "source": [
    "dbx.share('/test/pic1.png', short_url=True)"
   ]
  },
  {
   "cell_type": "code",
   "execution_count": 19,
   "metadata": {
    "collapsed": false
   },
   "outputs": [
    {
     "name": "stderr",
     "output_type": "stream",
     "text": [
      "/usr/local/lib/python2.7/dist-packages/ipykernel/__main__.py:1: DeprecationWarning: You are using a deprecated client. Please use the new v2 client located at dropbox.Dropbox.\n",
      "  if __name__ == '__main__':\n"
     ]
    }
   ],
   "source": [
    "client = dropbox.client.DropboxClient(token)"
   ]
  },
  {
   "cell_type": "code",
   "execution_count": 23,
   "metadata": {
    "collapsed": false
   },
   "outputs": [
    {
     "name": "stdout",
     "output_type": "stream",
     "text": [
      "https://db.tt/5hsOn31C Tue, 01 Jan 2030 00:00:00 +0000\n"
     ]
    }
   ],
   "source": [
    "url = client.share('/test/uber.pdf', short_url=True)\n",
    "print url['url'], url['expires']"
   ]
  },
  {
   "cell_type": "code",
   "execution_count": null,
   "metadata": {
    "collapsed": true
   },
   "outputs": [],
   "source": []
  }
 ],
 "metadata": {
  "kernelspec": {
   "display_name": "Python 2",
   "language": "python",
   "name": "python2"
  },
  "language_info": {
   "codemirror_mode": {
    "name": "ipython",
    "version": 2
   },
   "file_extension": ".py",
   "mimetype": "text/x-python",
   "name": "python",
   "nbconvert_exporter": "python",
   "pygments_lexer": "ipython2",
   "version": "2.7.6"
  }
 },
 "nbformat": 4,
 "nbformat_minor": 1
}
